{
 "cells": [
  {
   "cell_type": "markdown",
   "metadata": {},
   "source": [
    "# Importing initial libraries\n"
   ]
  },
  {
   "cell_type": "code",
   "execution_count": null,
   "metadata": {},
   "outputs": [],
   "source": [
    "import pandas as pd\n",
    "import yfinance as yf\n",
    "from pandas_datareader import data as pdr"
   ]
  },
  {
   "cell_type": "markdown",
   "metadata": {},
   "source": [
    "# Downloading and saving data\n"
   ]
  },
  {
   "cell_type": "code",
   "execution_count": null,
   "metadata": {},
   "outputs": [],
   "source": [
    "# Set up yfinance to use pandas data reader\n",
    "yf.pdr_override()\n",
    "\n",
    "# Define the list of tickers\n",
    "tickers = ['COR', 'CE', 'HUM', 'CINF', 'KEYS', 'NXPI', 'BMY', 'EMR',\n",
    "           'CVS', 'RVTY', 'ES', 'DHI', 'ZBRA', 'KMI', 'INVH', 'GPC', 'SWKS', 'GIS']\n",
    "\n",
    "# Define the date range\n",
    "start_date = '2002-01-01'\n",
    "end_date = '2022-12-31'\n",
    "Output_file = 'stock_prices.xlsx'\n",
    "\n",
    "# Create a pandas DataFrame to store the data\n",
    "price_data = pdr.get_data_yahoo(\n",
    "    tickers, start=start_date, end=end_date)['Close']\n",
    "adj_price_data = pdr.get_data_yahoo(\n",
    "    tickers, start=start_date, end=end_date)['Adj Close']\n",
    "volume_data = pdr.get_data_yahoo(\n",
    "    tickers, start=start_date, end=end_date)['Volume']"
   ]
  },
  {
   "cell_type": "code",
   "execution_count": null,
   "metadata": {},
   "outputs": [],
   "source": [
    "# Convert the datetime index to string in the format \"MM/DD/YYYY\"\n",
    "price_data.index = price_data.index.strftime('%m/%d/%Y')\n",
    "adj_price_data.index = adj_price_data.index.strftime('%m/%d/%Y')\n",
    "volume_data.index = volume_data.index.strftime('%m/%d/%Y')"
   ]
  },
  {
   "cell_type": "code",
   "execution_count": null,
   "metadata": {},
   "outputs": [],
   "source": [
    "\n",
    "# Create an Excel writer\n",
    "with pd.ExcelWriter(Output_file, engine='openpyxl') as writer:\n",
    "    # Save close prices to \"Price_daily\" sheet\n",
    "    price_data.to_excel(writer, sheet_name='Price_daily')\n",
    "\n",
    "    # Save adjusted close prices to \"Adj_Price_daily\" sheet\n",
    "    adj_price_data.to_excel(writer, sheet_name='Adj_Price_daily')\n",
    "\n",
    "    # Save volume data to \"Volume_daily\" sheet\n",
    "    volume_data.to_excel(writer, sheet_name='Volume_daily')\n",
    "\n",
    "print(\"Stock prices saved to stock_prices.xlsx\")"
   ]
  },
  {
   "cell_type": "code",
   "execution_count": null,
   "metadata": {},
   "outputs": [],
   "source": [
    "sp500_data = pdr.get_data_yahoo('^GSPC', start=start_date, end=end_date)[\n",
    "    [\"Adj Close\", \"Close\", \"High\", \"Low\", \"Open\", \"Volume\"]]\n",
    "sp500_data.index = sp500_data.index.strftime('%m/%d/%Y')\n",
    "\n",
    "with pd.ExcelWriter(Output_file, engine='openpyxl', mode='a', if_sheet_exists=\"replace\") as writer:\n",
    "    sp500_data.to_excel(writer, sheet_name='S&P 500')\n",
    "print(\"Prices for the S&P 500 index (^GSPC) saved to stock_prices.xlsx\")"
   ]
  },
  {
   "cell_type": "markdown",
   "metadata": {},
   "source": [
    "# Calculating Market Captilization\n"
   ]
  },
  {
   "cell_type": "code",
   "execution_count": null,
   "metadata": {},
   "outputs": [],
   "source": [
    "from Market_Cap import cal_market_cap, filter_last_date_per_year\n",
    "\n",
    "constituents_file = \"S&P 500 Constituent.xlsx\"\n",
    "cal_market_cap(start_date, end_date, constituents_file, Output_file, tickers)\n",
    "\n",
    "\n",
    "sheet_name = 'Market_Caps'\n",
    "filtered_df = filter_last_date_per_year(Output_file, sheet_name)\n",
    "\n",
    "\n",
    "with pd.ExcelWriter(Output_file, engine='openpyxl', mode='a', if_sheet_exists=\"replace\") as writer:\n",
    "    filtered_df.to_excel(writer, sheet_name='Market_Caps')\n",
    "\n",
    "print(\"Annual maket capital saved to stock_prices.xlsx\")"
   ]
  },
  {
   "cell_type": "markdown",
   "metadata": {},
   "source": [
    "# Calculating annual liquidity\n"
   ]
  },
  {
   "cell_type": "markdown",
   "metadata": {},
   "source": [
    "##### Calculateing the sum of daily Volume for each firm per year, dividing it by the total shares outstanding, and saving it in the sheet “Liquidity_annual”. This is a measure of how frequently a stock is traded, and generally, it is perceived as a measure of its liquidity."
   ]
  },
  {
   "cell_type": "code",
   "execution_count": null,
   "metadata": {},
   "outputs": [],
   "source": [
    "from liquidity import cal_liquidity\n",
    "excel_file = \"Stock Data Output.xlsx\"  # Replace with your file path\n",
    "cal_liquidity(Output_file, tickers, constituents_file)"
   ]
  },
  {
   "cell_type": "markdown",
   "metadata": {},
   "source": [
    "# Calculating returns\n"
   ]
  },
  {
   "cell_type": "markdown",
   "metadata": {},
   "source": [
    "##### Using adjusted close prices at the annual, monthly, and daily frequencies, computing the annual, monthly, and daily returns. Saving them in new sheets labeled “Returns_annual”, “Returns_monthly”, and “Returns_daily”."
   ]
  },
  {
   "cell_type": "code",
   "execution_count": null,
   "metadata": {},
   "outputs": [],
   "source": [
    "from returns import cal_returns\n",
    "\n",
    "cal_returns(Output_file, tickers, adj_price_data, start_date, end_date)"
   ]
  },
  {
   "cell_type": "markdown",
   "metadata": {},
   "source": [
    "# Calculating annual risks"
   ]
  },
  {
   "cell_type": "markdown",
   "metadata": {},
   "source": [
    "##### Using Returtns_daily, calculating the standard deviation of each stock in each year. Saving these in a new sheet called “Risk_annual”."
   ]
  },
  {
   "cell_type": "code",
   "execution_count": null,
   "metadata": {},
   "outputs": [],
   "source": [
    "from risk import cal_risks\n",
    "\n",
    "cal_risks(Output_file, tickers, adj_price_data)"
   ]
  },
  {
   "cell_type": "markdown",
   "metadata": {},
   "source": [
    "# Calculating statistics"
   ]
  },
  {
   "cell_type": "markdown",
   "metadata": {},
   "source": [
    "##### Calcuating summary statistics of our portfolio holdings (in sheet “Firm_Summary_Stat”)"
   ]
  },
  {
   "cell_type": "code",
   "execution_count": null,
   "metadata": {},
   "outputs": [],
   "source": [
    "returns_sheet_name = 'Returns_annual'\n",
    "constituents_sheet_name = 'S&P 500 Constituent'\n",
    "\n",
    "returns_data = pd.read_excel(Output_file, sheet_name=returns_sheet_name, index_col=0)\n",
    "constituents_data = pd.read_excel(constituents_file, sheet_name=constituents_sheet_name, index_col=0)\n",
    "\n",
    "# Filter returns data for the last 5 years (2018:2022)\n",
    "returns_data_last_5_years = returns_data.loc['2018-01-01':'2022-12-31']\n",
    "\n",
    "# Create a new DataFrame for summary statistics\n",
    "summary_stats_df = pd.DataFrame()\n",
    "\n",
    "\n",
    "# Calculate and add summary statistics for each firm\n",
    "summary_stats_df['Min'] = returns_data_last_5_years.min()\n",
    "summary_stats_df['Max'] = returns_data_last_5_years.max()\n",
    "summary_stats_df['Mean'] = returns_data_last_5_years.mean()\n",
    "summary_stats_df['Volatility'] = returns_data_last_5_years.std()\n",
    "\n",
    "# Load market capitalization data\n",
    "market_cap_data = pd.read_excel(Output_file, sheet_name=\"Market_Cap\", index_col=0)\n",
    "\n",
    "# Add market capitalization (size) for each firm to the summary_stats_df\n",
    "summary_stats_df['Size'] = market_cap_data.mean()  # You can use mean() or any other aggregation method\n",
    "\n",
    "\n",
    "\n",
    "# Add industry information for each firm\n",
    "summary_stats_df['Industry'] = constituents_data['GICS Sector']\n",
    "\n",
    "# Add a new sheet \"Firm_Summary_Stat\" to the existing Excel file\n",
    "with pd.ExcelWriter(Output_file, engine=\"openpyxl\", mode=\"a\", if_sheet_exists=\"replace\") as writer:\n",
    "    summary_stats_df.T.to_excel(writer, sheet_name=\"Firm_Summary_Stat\", index=True, header=True)\n",
    "\n",
    "from beta import beta_main\n",
    "\n",
    "beta_main(tickers, start_date, end_date, constituents_file, Output_file, summary_stats_df)\n"
   ]
  },
  {
   "cell_type": "markdown",
   "metadata": {},
   "source": [
    "# Personal Portfolio Analysis"
   ]
  },
  {
   "cell_type": "markdown",
   "metadata": {},
   "source": [
    "##### Strategy = Return: Every January, invest more in firms that had a larger return last year. If they had negative returns, do not invest in them this year."
   ]
  },
  {
   "cell_type": "code",
   "execution_count": null,
   "metadata": {},
   "outputs": [],
   "source": [
    "from portfolio_analysis import cal_portfolio\n",
    "\n",
    "combined_returns, Rf = cal_portfolio(tickers, adj_price_data)\n"
   ]
  },
  {
   "cell_type": "markdown",
   "metadata": {},
   "source": [
    "# Calculating portfolio performance"
   ]
  },
  {
   "cell_type": "code",
   "execution_count": null,
   "metadata": {},
   "outputs": [],
   "source": [
    "from portfolio_perf import cal_portfolio_perf\n",
    "\n",
    "cal_portfolio_perf(combined_returns, Rf)\n"
   ]
  },
  {
   "cell_type": "markdown",
   "metadata": {},
   "source": [
    "# Calculating Portfolio Returns"
   ]
  },
  {
   "cell_type": "code",
   "execution_count": null,
   "metadata": {},
   "outputs": [],
   "source": [
    "import numpy as np\n",
    "import pandas as pd\n",
    "import matplotlib.pyplot as plt\n",
    "from sklearn.linear_model import LinearRegression\n",
    "import scipy.stats as stats\n",
    "\n",
    "# Calculate additional metrics\n",
    "portfolio_returns = combined_returns[\"Annesha's Fund\"]\n",
    "benchmark_returns = combined_returns['GSPC Monthly Return']\n",
    "\n",
    "portfolio_returns = portfolio_returns.fillna(0)\n",
    "benchmark_returns = benchmark_returns.fillna(0)\n",
    "\n",
    "# Check if there are NaN values after dropping them\n",
    "if portfolio_returns.isnull().any() or benchmark_returns.isnull().any():\n",
    "    raise ValueError(\"NaN values are present in portfolio or benchmark returns after dropping.\")\n",
    "\n",
    "import numpy as np\n",
    "import pandas as pd\n",
    "import matplotlib.pyplot as plt\n",
    "from sklearn.linear_model import LinearRegression\n",
    "\n",
    "# Calculate additional metrics\n",
    "portfolio_returns = combined_returns[\"Annesha's Fund\"]\n",
    "benchmark_returns = combined_returns['GSPC Monthly Return']\n",
    "\n",
    "portfolio_returns = portfolio_returns.fillna(0)\n",
    "benchmark_returns = benchmark_returns.fillna(0)\n",
    "\n",
    "# Check if there are NaN values after dropping them\n",
    "if portfolio_returns.isnull().any() or benchmark_returns.isnull().any():\n",
    "    raise ValueError(\"NaN values are present in portfolio or benchmark returns after dropping.\")\n",
    "\n",
    "# Calculate mean, std, min, max in annual percentage rates\n",
    "mean_return_annual = (1 + portfolio_returns).prod() ** (12 / len(portfolio_returns.index)) - 1\n",
    "std_return_annual = portfolio_returns.std() * np.sqrt(12)\n",
    "min_return_annual = portfolio_returns.min() * 12\n",
    "max_return_annual = portfolio_returns.max() * 12\n",
    "\n",
    "# Convert to percentage for display\n",
    "mean_return_annual_percent = mean_return_annual * 100\n",
    "std_return_annual_percent = std_return_annual * 100\n",
    "min_return_annual_percent = min_return_annual * 100\n",
    "max_return_annual_percent = max_return_annual * 100\n",
    "\n",
    "# Calculate Alpha, Beta, R-squared for Annesha Fund\n",
    "X_portfolio = benchmark_returns.values.reshape(-1, 1)\n",
    "y_portfolio = portfolio_returns.values\n",
    "\n",
    "# Check for NaN values in X and y\n",
    "if np.isnan(X_portfolio).any() or np.isnan(y_portfolio).any():\n",
    "    raise ValueError(\"NaN values are present in X or y for Annesha Fund after dropping.\")\n",
    "\n",
    "# Check if there are NaN values after dropping them\n",
    "if portfolio_returns.isnull().any() or benchmark_returns.isnull().any():\n",
    "    raise ValueError(\"NaN values are present in Annesha Fund or benchmark returns after dropping.\")\n",
    "\n",
    "model_portfolio = LinearRegression().fit(X_portfolio, y_portfolio)\n",
    "alpha_portfolio = model_portfolio.intercept_\n",
    "beta_portfolio = model_portfolio.coef_[0]\n",
    "r_squared_portfolio = model_portfolio.score(X_portfolio, y_portfolio)\n",
    "\n",
    "# Calculate Sharpe ratio and Treynor ratio for Annesha Fund\n",
    "sharpe_ratio_portfolio = (mean_return_annual - Rf) / std_return_annual\n",
    "treynor_ratio_portfolio = (mean_return_annual - Rf) / beta_portfolio\n",
    "\n",
    "# Calculate Alpha, Beta, R-squared for GSPC\n",
    "X_gspc = benchmark_returns.values.reshape(-1, 1)\n",
    "y_gspc = benchmark_returns.values\n",
    "\n",
    "# Check for NaN values in X and y\n",
    "if np.isnan(X_gspc).any() or np.isnan(y_gspc).any():\n",
    "    raise ValueError(\"NaN values are present in X or y for GSPC after dropping.\")\n",
    "\n",
    "model_gspc = LinearRegression().fit(X_gspc, y_gspc)\n",
    "alpha_gspc = model_gspc.intercept_\n",
    "beta_gspc = model_gspc.coef_[0]\n",
    "r_squared_gspc = model_gspc.score(X_gspc, y_gspc)\n",
    "\n",
    "# Calculate Sharpe ratio and Treynor ratio for GSPC\n",
    "sharpe_ratio_gspc = (benchmark_returns.mean() * 12 - Rf) / (benchmark_returns.std() * np.sqrt(12))\n",
    "treynor_ratio_gspc = (benchmark_returns.mean() * 12 - Rf) / beta_gspc\n",
    "\n",
    "# Create a DataFrame to store the results\n",
    "summary_data = pd.DataFrame({\n",
    "    'Variable': ['Average', 'Standard Deviation', 'Minimum', 'Maximum', 'Alpha', 'Beta', 'R-squared', 'Sharpe Ratio', 'Treynor Ratio'],\n",
    "    \"Annesha Fund\": [f'{mean_return_annual_percent:.2f}%', f'{std_return_annual_percent:.2f}%', f'{min_return_annual_percent:.2f}%', f'{max_return_annual_percent:.2f}%', alpha_portfolio, beta_portfolio, r_squared_portfolio, sharpe_ratio_portfolio, treynor_ratio_portfolio],\n",
    "    'GSPC': [f'{benchmark_returns.mean() * 12 * 100:.2f}%', f'{benchmark_returns.std() * np.sqrt(12) * 100:.2f}%', f'{benchmark_returns.min() * 12 * 100:.2f}%', f'{benchmark_returns.max() * 12 * 100:.2f}%', alpha_gspc, beta_gspc, r_squared_gspc, sharpe_ratio_gspc, treynor_ratio_gspc]\n",
    "})\n",
    "\n",
    "# Save the summary data to Excel\n",
    "excel_file_path = 'Stock Data Output.xlsx'\n",
    "with pd.ExcelWriter(excel_file_path, engine=\"openpyxl\", mode=\"a\", if_sheet_exists=\"replace\") as writer:\n",
    "    summary_data.to_excel(writer, sheet_name='Fund_summary', index=False)\n",
    "\n",
    "# Plot a histogram of portfolio returns with lines for Annesha Fund and GSPC\n",
    "plt.figure(figsize=(10, 6))\n",
    "\n",
    "# Plot histogram\n",
    "hist, bins, _ = plt.hist(portfolio_returns, bins=20, color='white', edgecolor='maroon', alpha=0.7, histtype='step', label=\"Annesha Fund\", density=True)\n",
    "plt.hist(benchmark_returns, bins=bins, color='white', edgecolor='blue', alpha=0.7, label='GSPC', density=True, histtype='step')\n",
    "\n",
    "plt.title('Histogram of Portfolio Returns')\n",
    "plt.xlabel('Monthly Returns')\n",
    "plt.ylabel('Frequency')\n",
    "plt.legend()\n",
    "plt.grid(False)\n",
    "plt.savefig('Histogram_Portfolio_Returns.png')\n",
    "plt.show()\n",
    "\n"
   ]
  },
  {
   "cell_type": "markdown",
   "metadata": {},
   "source": [
    "# Calculating investment summary"
   ]
  },
  {
   "cell_type": "code",
   "execution_count": null,
   "metadata": {},
   "outputs": [],
   "source": [
    "import numpy as np\n",
    "import pandas as pd\n",
    "import matplotlib.pyplot as plt\n",
    "import yfinance as yf\n",
    "import scipy.optimize as opt\n",
    "from pandas.tseries.offsets import MonthEnd\n",
    "\n",
    "# Function to calculate Sharpe Ratio\n",
    "def SharpeRatio(weights, Ret, Rf):\n",
    "    w = np.append(weights, 1 - sum(weights))\n",
    "    Ret_portfolio = (w * Ret).sum(axis=1)\n",
    "    SR_portfolio = -1 * (Ret_portfolio.mean() - Rf) * 12 / Ret_portfolio.std() / np.sqrt(12)\n",
    "    return SR_portfolio\n",
    "\n",
    "# Define the tickers and other parameters\n",
    "tickers = ['EMN', 'CINF', 'KEYS', 'CDW', 'RVTY', 'KMI', 'COR', 'NXPI', 'INVH', 'EMR', 'BMY', 'NCLH', 'GPC', 'HUM', 'DHI', 'ES', 'CVS', 'GIS', 'AEP', 'AXON', 'CE', 'ZBRA', 'SWKS', 'PEAK', 'SJM']\n",
    "start_date = '2003-01-01'\n",
    "end_date = '2023-11-30'  # Updated end date\n",
    "\n",
    "# Download data\n",
    "panel_data = yf.download(tickers, start_date, end_date)\n",
    "\n",
    "# Resample data to monthly frequency and fill missing data with zeros\n",
    "Returns = panel_data['Adj Close'].resample(\"1m\").ffill().pct_change().fillna(0)\n",
    "\n",
    "# Set initial weights\n",
    "weights_0 = np.ones(len(tickers) - 1) / len(tickers)\n",
    "\n",
    "# Optimize weights to maximize Sharpe Ratio\n",
    "optimal_weights = opt.fmin_bfgs(SharpeRatio, weights_0, args=(Returns[tickers], Rf))\n",
    "\n",
    "# Calculate final weights with cash\n",
    "optimal_weights_all = np.append(optimal_weights, 1 - sum(optimal_weights))\n",
    "optimal_weights_all = pd.Series(optimal_weights_all, index=tickers)\n",
    "\n",
    "# Calculate investments in each firm at the end of the sample\n",
    "investments = panel_data['Adj Close'].iloc[-1] * optimal_weights_all\n",
    "\n",
    "# Ensure that investments are non-negative\n",
    "investments[investments < 0] = 0\n",
    "\n",
    "# Calculate percentage investments\n",
    "percentage_investments = (investments / investments.sum()) * 100\n",
    "\n",
    "# Preserve the original order of tickers\n",
    "percentage_investments = percentage_investments.loc[tickers]\n",
    "\n",
    "# Display investments\n",
    "print(\"Investments at the end of the sample:\")\n",
    "print(percentage_investments.round(2))\n",
    "\n",
    "# Save the summary data to Excel\n",
    "excel_file_path = 'Company_Student_List .xlsx'\n",
    "\n",
    "# Create a DataFrame to store the results\n",
    "summary_data = pd.DataFrame({'Symbols': tickers, end_date: percentage_investments.round(2)})\n",
    "# Append the summary_data to the 'fund_summary2' sheet in the Excel file\n",
    "with pd.ExcelWriter(\"Stock Data Output.xlsx\", engine=\"openpyxl\", mode=\"a\", if_sheet_exists=\"replace\") as writer:\n",
    "    summary_data.to_excel(writer, sheet_name='fund_summary2', index=False)\n",
    "\n",
    "# Load industry data from Excel\n",
    "industry_data = pd.read_excel(excel_file_path, sheet_name='S&P 500 Constituent', usecols=['ticker', 'GICS Sector'])\n",
    "\n",
    "# Merge industry data with summary_data\n",
    "summary_data = pd.merge(summary_data, industry_data, left_on='Symbols', right_on='ticker', how='left')\n",
    "\n",
    "# Group by industry and sum investments\n",
    "industry_investments = summary_data.groupby('GICS Sector')[end_date].sum()\n",
    "\n",
    "# Plot a pie chart with leader lines for industries\n",
    "fig, ax = plt.subplots(figsize=(12, 8))\n",
    "wedges, texts, autotexts = ax.pie(industry_investments, autopct='%1.1f%%', textprops=dict(color=\"w\"))\n",
    "\n",
    "# Add leader lines\n",
    "for i, text in enumerate(texts):\n",
    "    angle = (wedges[i].theta2 - wedges[i].theta1) / 2. + wedges[i].theta1\n",
    "    x = np.cos(np.radians(angle))\n",
    "    y = np.sin(np.radians(angle))\n",
    "    horizontalalignment = {-1: \"right\", 1: \"left\"}[int(np.sign(x))]\n",
    "    connectionstyle = f\"angle,angleA=0,angleB={angle}\"\n",
    "    ax.annotate(f'{industry_investments.index[i]}', xy=(x, y), xytext=(1.35 * np.sign(x), 1.4 * y),\n",
    "                horizontalalignment=horizontalalignment, arrowprops=dict(arrowstyle=\"->\", connectionstyle=\"arc3\", color='black'))\n",
    "\n",
    "plt.title('Industry Composition at the End of the Sample')\n",
    "plt.savefig('industry_pie_chart.png')\n",
    "plt.show()\n"
   ]
  },
  {
   "cell_type": "markdown",
   "metadata": {},
   "source": [
    "# Making excel file more readalbe.\n",
    "\n",
    "###### (This is the last step)\n"
   ]
  },
  {
   "cell_type": "code",
   "execution_count": null,
   "metadata": {},
   "outputs": [],
   "source": []
  },
  {
   "cell_type": "markdown",
   "metadata": {},
   "source": [
    "#### Wraping Text\n"
   ]
  }
 ],
 "metadata": {
  "kernelspec": {
   "display_name": "base",
   "language": "python",
   "name": "python3"
  },
  "language_info": {
   "codemirror_mode": {
    "name": "ipython",
    "version": 3
   },
   "file_extension": ".py",
   "mimetype": "text/x-python",
   "name": "python",
   "nbconvert_exporter": "python",
   "pygments_lexer": "ipython3",
   "version": "3.10.10"
  }
 },
 "nbformat": 4,
 "nbformat_minor": 2
}
